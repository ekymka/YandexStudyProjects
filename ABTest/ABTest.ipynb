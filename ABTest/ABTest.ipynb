{
 "cells": [
  {
   "cell_type": "markdown",
   "metadata": {},
   "source": [
    "# Проект по теме \"Принятие решений в бизнесе на основе данных\"\n",
    "**Задача:** В интернет-магазине проведен А/В-тест. Необходимо проанализировать влияние нововведений на величину чека, выручку и конверсию, принять решение по результатам теста."
   ]
  },
  {
   "cell_type": "markdown",
   "metadata": {},
   "source": [
    "## План работ\n",
    "1. Загрузить результаты тестов, предобработать данные (проверить типы данных, пустые значения, дубликаты)\n",
    "2. Анализ A/B-теста:\n",
    " - Построить график кумулятивной выручки по группам. Сделать выводы и предположения.\n",
    " - Построить график кумулятивного среднего чека по группам. Сделать выводы и предположения.\n",
    " - Построить график относительного изменения кумулятивного среднего чека группы B к группе A. Сделать выводы и предположения.\n",
    " - Построить график кумулятивной конверсии по группам. Сделать выводы и предположения.\n",
    " - Построить график относительного изменения кумулятивной конверсии группы B к группе A. Сделать выводы и предположения.\n",
    " - Построить точечный график количества заказов по пользователям. Сделать выводы и предположения.\n",
    " - Построить 95-й и 99-й перцентили количества заказов на пользователя. Выбрать границу для определения аномальных  пользователей.\n",
    " - Построить точечный график стоимостей заказов. Сделать выводы и предположения.\n",
    " - Посчитать 95-й и 99-й перцентили стоимости заказов. Выбрать границу для определения аномальных заказов.\n",
    " - Посчитать статистическую значимость различий в конверсии между группами по «сырым» данным. Сделать выводы и предположения.\n",
    " - Посчитать статистическую значимость различий в среднем чеке заказа между группами по «сырым» данным. Сделать выводы и предположения.\n",
    " - Посчитать статистическую значимость различий в конверсии между группами по «очищенным» данным. Сделать выводы и предположения.\n",
    " - Посчитать статистическую значимость различий в среднем чеке заказа между группами по «очищенным» данным. Сделать выводы и предположения.\n",
    " - Принять решение по результатам теста. \n",
    "\n",
    "Варианты решений по результатам теста:  \n",
    "1) Остановить тест, зафиксировать победу одной из групп.   \n",
    "2) Остановить тест, зафиксировать отсутствие различий между группами.   \n",
    "3) Продолжить тест.  "
   ]
  },
  {
   "cell_type": "markdown",
   "metadata": {},
   "source": [
    "## Описание данных\n",
    "\n",
    "Файл _orders.csv_ :\n",
    " - `transactionId` — идентификатор заказа;\n",
    " - `visitorId` — идентификатор пользователя, совершившего заказ;\n",
    " - `date` — дата, когда был совершён заказ;\n",
    " - `revenue` — выручка заказа;\n",
    " - `group` — группа A/B-теста, в которую попал заказ.\n",
    "\n",
    "\n",
    "Файл _visitors.csv_ :\n",
    " - `date` — дата;\n",
    " - `group` — группа A/B-теста;\n",
    " - `visitors` — количество пользователей в указанную дату в указанной группе A/B-теста"
   ]
  },
  {
   "cell_type": "code",
   "execution_count": 1,
   "metadata": {},
   "outputs": [],
   "source": [
    "import pandas as pd\n",
    "import numpy as np\n",
    "from datetime import datetime as dt\n",
    "from matplotlib import pyplot as plt\n",
    "import seaborn as sns\n",
    "import scipy.stats as stats\n",
    "\n",
    "import warnings \n",
    "warnings.simplefilter(\"ignore\")\n",
    "\n",
    "pd.set_option('display.max_colwidth', -1)"
   ]
  },
  {
   "cell_type": "markdown",
   "metadata": {},
   "source": [
    "## Анализ A/B-теста"
   ]
  },
  {
   "cell_type": "markdown",
   "metadata": {},
   "source": [
    "### Загрузим данные, предобработаем"
   ]
  },
  {
   "cell_type": "code",
   "execution_count": 2,
   "metadata": {},
   "outputs": [],
   "source": [
    "orders_init = pd.read_csv(\"orders.csv\")"
   ]
  },
  {
   "cell_type": "code",
   "execution_count": 3,
   "metadata": {},
   "outputs": [
    {
     "name": "stdout",
     "output_type": "stream",
     "text": [
      "<class 'pandas.core.frame.DataFrame'>\n",
      "RangeIndex: 1197 entries, 0 to 1196\n",
      "Data columns (total 5 columns):\n",
      " #   Column         Non-Null Count  Dtype \n",
      "---  ------         --------------  ----- \n",
      " 0   transactionId  1197 non-null   int64 \n",
      " 1   visitorId      1197 non-null   int64 \n",
      " 2   date           1197 non-null   object\n",
      " 3   revenue        1197 non-null   int64 \n",
      " 4   group          1197 non-null   object\n",
      "dtypes: int64(3), object(2)\n",
      "memory usage: 46.9+ KB\n"
     ]
    }
   ],
   "source": [
    "orders_init.info()"
   ]
  },
  {
   "cell_type": "code",
   "execution_count": 4,
   "metadata": {},
   "outputs": [
    {
     "data": {
      "text/html": [
       "<div>\n",
       "<style scoped>\n",
       "    .dataframe tbody tr th:only-of-type {\n",
       "        vertical-align: middle;\n",
       "    }\n",
       "\n",
       "    .dataframe tbody tr th {\n",
       "        vertical-align: top;\n",
       "    }\n",
       "\n",
       "    .dataframe thead th {\n",
       "        text-align: right;\n",
       "    }\n",
       "</style>\n",
       "<table border=\"1\" class=\"dataframe\">\n",
       "  <thead>\n",
       "    <tr style=\"text-align: right;\">\n",
       "      <th></th>\n",
       "      <th>transactionId</th>\n",
       "      <th>visitorId</th>\n",
       "      <th>date</th>\n",
       "      <th>revenue</th>\n",
       "      <th>group</th>\n",
       "    </tr>\n",
       "  </thead>\n",
       "  <tbody>\n",
       "    <tr>\n",
       "      <th>count</th>\n",
       "      <td>1.197000e+03</td>\n",
       "      <td>1.197000e+03</td>\n",
       "      <td>1197</td>\n",
       "      <td>1.197000e+03</td>\n",
       "      <td>1197</td>\n",
       "    </tr>\n",
       "    <tr>\n",
       "      <th>unique</th>\n",
       "      <td>NaN</td>\n",
       "      <td>NaN</td>\n",
       "      <td>31</td>\n",
       "      <td>NaN</td>\n",
       "      <td>2</td>\n",
       "    </tr>\n",
       "    <tr>\n",
       "      <th>top</th>\n",
       "      <td>NaN</td>\n",
       "      <td>NaN</td>\n",
       "      <td>2019-08-05</td>\n",
       "      <td>NaN</td>\n",
       "      <td>B</td>\n",
       "    </tr>\n",
       "    <tr>\n",
       "      <th>freq</th>\n",
       "      <td>NaN</td>\n",
       "      <td>NaN</td>\n",
       "      <td>48</td>\n",
       "      <td>NaN</td>\n",
       "      <td>640</td>\n",
       "    </tr>\n",
       "    <tr>\n",
       "      <th>mean</th>\n",
       "      <td>2.155621e+09</td>\n",
       "      <td>2.165960e+09</td>\n",
       "      <td>NaN</td>\n",
       "      <td>8.348006e+03</td>\n",
       "      <td>NaN</td>\n",
       "    </tr>\n",
       "    <tr>\n",
       "      <th>std</th>\n",
       "      <td>1.229085e+09</td>\n",
       "      <td>1.236014e+09</td>\n",
       "      <td>NaN</td>\n",
       "      <td>3.919113e+04</td>\n",
       "      <td>NaN</td>\n",
       "    </tr>\n",
       "    <tr>\n",
       "      <th>min</th>\n",
       "      <td>1.062393e+06</td>\n",
       "      <td>5.114589e+06</td>\n",
       "      <td>NaN</td>\n",
       "      <td>5.000000e+01</td>\n",
       "      <td>NaN</td>\n",
       "    </tr>\n",
       "    <tr>\n",
       "      <th>25%</th>\n",
       "      <td>1.166776e+09</td>\n",
       "      <td>1.111826e+09</td>\n",
       "      <td>NaN</td>\n",
       "      <td>1.220000e+03</td>\n",
       "      <td>NaN</td>\n",
       "    </tr>\n",
       "    <tr>\n",
       "      <th>50%</th>\n",
       "      <td>2.145194e+09</td>\n",
       "      <td>2.217985e+09</td>\n",
       "      <td>NaN</td>\n",
       "      <td>2.978000e+03</td>\n",
       "      <td>NaN</td>\n",
       "    </tr>\n",
       "    <tr>\n",
       "      <th>75%</th>\n",
       "      <td>3.237740e+09</td>\n",
       "      <td>3.177606e+09</td>\n",
       "      <td>NaN</td>\n",
       "      <td>8.290000e+03</td>\n",
       "      <td>NaN</td>\n",
       "    </tr>\n",
       "    <tr>\n",
       "      <th>max</th>\n",
       "      <td>4.293856e+09</td>\n",
       "      <td>4.283872e+09</td>\n",
       "      <td>NaN</td>\n",
       "      <td>1.294500e+06</td>\n",
       "      <td>NaN</td>\n",
       "    </tr>\n",
       "  </tbody>\n",
       "</table>\n",
       "</div>"
      ],
      "text/plain": [
       "        transactionId     visitorId        date       revenue group\n",
       "count   1.197000e+03   1.197000e+03  1197        1.197000e+03  1197\n",
       "unique NaN            NaN            31         NaN            2   \n",
       "top    NaN            NaN            2019-08-05 NaN            B   \n",
       "freq   NaN            NaN            48         NaN            640 \n",
       "mean    2.155621e+09   2.165960e+09  NaN         8.348006e+03  NaN \n",
       "std     1.229085e+09   1.236014e+09  NaN         3.919113e+04  NaN \n",
       "min     1.062393e+06   5.114589e+06  NaN         5.000000e+01  NaN \n",
       "25%     1.166776e+09   1.111826e+09  NaN         1.220000e+03  NaN \n",
       "50%     2.145194e+09   2.217985e+09  NaN         2.978000e+03  NaN \n",
       "75%     3.237740e+09   3.177606e+09  NaN         8.290000e+03  NaN \n",
       "max     4.293856e+09   4.283872e+09  NaN         1.294500e+06  NaN "
      ]
     },
     "execution_count": 4,
     "metadata": {},
     "output_type": "execute_result"
    }
   ],
   "source": [
    "orders_init.describe(include='all')"
   ]
  },
  {
   "cell_type": "code",
   "execution_count": 5,
   "metadata": {},
   "outputs": [
    {
     "data": {
      "text/html": [
       "<div>\n",
       "<style scoped>\n",
       "    .dataframe tbody tr th:only-of-type {\n",
       "        vertical-align: middle;\n",
       "    }\n",
       "\n",
       "    .dataframe tbody tr th {\n",
       "        vertical-align: top;\n",
       "    }\n",
       "\n",
       "    .dataframe thead th {\n",
       "        text-align: right;\n",
       "    }\n",
       "</style>\n",
       "<table border=\"1\" class=\"dataframe\">\n",
       "  <thead>\n",
       "    <tr style=\"text-align: right;\">\n",
       "      <th></th>\n",
       "      <th>transactionId</th>\n",
       "      <th>visitorId</th>\n",
       "      <th>date</th>\n",
       "      <th>revenue</th>\n",
       "      <th>group</th>\n",
       "    </tr>\n",
       "  </thead>\n",
       "  <tbody>\n",
       "    <tr>\n",
       "      <th>0</th>\n",
       "      <td>3667963787</td>\n",
       "      <td>3312258926</td>\n",
       "      <td>2019-08-15</td>\n",
       "      <td>1650</td>\n",
       "      <td>B</td>\n",
       "    </tr>\n",
       "    <tr>\n",
       "      <th>1</th>\n",
       "      <td>2804400009</td>\n",
       "      <td>3642806036</td>\n",
       "      <td>2019-08-15</td>\n",
       "      <td>730</td>\n",
       "      <td>B</td>\n",
       "    </tr>\n",
       "    <tr>\n",
       "      <th>2</th>\n",
       "      <td>2961555356</td>\n",
       "      <td>4069496402</td>\n",
       "      <td>2019-08-15</td>\n",
       "      <td>400</td>\n",
       "      <td>A</td>\n",
       "    </tr>\n",
       "    <tr>\n",
       "      <th>3</th>\n",
       "      <td>3797467345</td>\n",
       "      <td>1196621759</td>\n",
       "      <td>2019-08-15</td>\n",
       "      <td>9759</td>\n",
       "      <td>B</td>\n",
       "    </tr>\n",
       "    <tr>\n",
       "      <th>4</th>\n",
       "      <td>2282983706</td>\n",
       "      <td>2322279887</td>\n",
       "      <td>2019-08-15</td>\n",
       "      <td>2308</td>\n",
       "      <td>B</td>\n",
       "    </tr>\n",
       "  </tbody>\n",
       "</table>\n",
       "</div>"
      ],
      "text/plain": [
       "   transactionId   visitorId       date  revenue group\n",
       "0  3667963787     3312258926 2019-08-15  1650     B   \n",
       "1  2804400009     3642806036 2019-08-15  730      B   \n",
       "2  2961555356     4069496402 2019-08-15  400      A   \n",
       "3  3797467345     1196621759 2019-08-15  9759     B   \n",
       "4  2282983706     2322279887 2019-08-15  2308     B   "
      ]
     },
     "execution_count": 5,
     "metadata": {},
     "output_type": "execute_result"
    }
   ],
   "source": [
    "orders_init['date'] = orders_init['date'].map(lambda x : dt.strptime(x, '%Y-%m-%d'))\n",
    "orders_init.head()"
   ]
  },
  {
   "cell_type": "markdown",
   "metadata": {},
   "source": [
    "**Проверим, как распределены покупатели по группам**"
   ]
  },
  {
   "cell_type": "code",
   "execution_count": 6,
   "metadata": {},
   "outputs": [
    {
     "data": {
      "text/plain": [
       "group\n",
       "A    503\n",
       "B    586\n",
       "Name: visitorId, dtype: int64"
      ]
     },
     "execution_count": 6,
     "metadata": {},
     "output_type": "execute_result"
    }
   ],
   "source": [
    "orders_init.groupby('group')['visitorId'].nunique()"
   ]
  },
  {
   "cell_type": "code",
   "execution_count": 7,
   "metadata": {},
   "outputs": [
    {
     "name": "stdout",
     "output_type": "stream",
     "text": [
      "Всего посетителей: 1031\n",
      "Суммарно посетителей по группам: 1089\n"
     ]
    }
   ],
   "source": [
    "print('Всего посетителей:', orders_init['visitorId'].nunique())\n",
    "print('Суммарно посетителей по группам:', orders_init.groupby('group')['visitorId'].nunique().sum())"
   ]
  },
  {
   "cell_type": "markdown",
   "metadata": {},
   "source": [
    "Похоже, какие-то клиенты попали в обе группы. Найдем их и удалим из выборки."
   ]
  },
  {
   "cell_type": "code",
   "execution_count": 8,
   "metadata": {},
   "outputs": [],
   "source": [
    "groupA = orders_init[orders_init['group']=='A']['visitorId'].unique()\n",
    "groupB = orders_init[orders_init['group']=='B']['visitorId'].unique()\n",
    "\n",
    "groupAB_orders = orders_init.query('(visitorId in @groupA and visitorId in @groupB)')\n",
    "\n",
    "orders = orders_init.query('~(visitorId in @groupA and visitorId in @groupB)')"
   ]
  },
  {
   "cell_type": "code",
   "execution_count": 9,
   "metadata": {},
   "outputs": [
    {
     "data": {
      "text/html": [
       "<div>\n",
       "<style scoped>\n",
       "    .dataframe tbody tr th:only-of-type {\n",
       "        vertical-align: middle;\n",
       "    }\n",
       "\n",
       "    .dataframe tbody tr th {\n",
       "        vertical-align: top;\n",
       "    }\n",
       "\n",
       "    .dataframe thead th {\n",
       "        text-align: right;\n",
       "    }\n",
       "</style>\n",
       "<table border=\"1\" class=\"dataframe\">\n",
       "  <thead>\n",
       "    <tr style=\"text-align: right;\">\n",
       "      <th></th>\n",
       "      <th>transactionId</th>\n",
       "      <th>visitorId</th>\n",
       "      <th>date</th>\n",
       "      <th>revenue</th>\n",
       "      <th>group</th>\n",
       "    </tr>\n",
       "  </thead>\n",
       "  <tbody>\n",
       "    <tr>\n",
       "      <th>count</th>\n",
       "      <td>1.016000e+03</td>\n",
       "      <td>1.016000e+03</td>\n",
       "      <td>1016</td>\n",
       "      <td>1.016000e+03</td>\n",
       "      <td>1016</td>\n",
       "    </tr>\n",
       "    <tr>\n",
       "      <th>unique</th>\n",
       "      <td>NaN</td>\n",
       "      <td>NaN</td>\n",
       "      <td>31</td>\n",
       "      <td>NaN</td>\n",
       "      <td>2</td>\n",
       "    </tr>\n",
       "    <tr>\n",
       "      <th>top</th>\n",
       "      <td>NaN</td>\n",
       "      <td>NaN</td>\n",
       "      <td>2019-08-05 00:00:00</td>\n",
       "      <td>NaN</td>\n",
       "      <td>B</td>\n",
       "    </tr>\n",
       "    <tr>\n",
       "      <th>freq</th>\n",
       "      <td>NaN</td>\n",
       "      <td>NaN</td>\n",
       "      <td>43</td>\n",
       "      <td>NaN</td>\n",
       "      <td>548</td>\n",
       "    </tr>\n",
       "    <tr>\n",
       "      <th>first</th>\n",
       "      <td>NaN</td>\n",
       "      <td>NaN</td>\n",
       "      <td>2019-08-01 00:00:00</td>\n",
       "      <td>NaN</td>\n",
       "      <td>NaN</td>\n",
       "    </tr>\n",
       "    <tr>\n",
       "      <th>last</th>\n",
       "      <td>NaN</td>\n",
       "      <td>NaN</td>\n",
       "      <td>2019-08-31 00:00:00</td>\n",
       "      <td>NaN</td>\n",
       "      <td>NaN</td>\n",
       "    </tr>\n",
       "    <tr>\n",
       "      <th>mean</th>\n",
       "      <td>2.155085e+09</td>\n",
       "      <td>2.128677e+09</td>\n",
       "      <td>NaN</td>\n",
       "      <td>8.300815e+03</td>\n",
       "      <td>NaN</td>\n",
       "    </tr>\n",
       "    <tr>\n",
       "      <th>std</th>\n",
       "      <td>1.234372e+09</td>\n",
       "      <td>1.221578e+09</td>\n",
       "      <td>NaN</td>\n",
       "      <td>4.212199e+04</td>\n",
       "      <td>NaN</td>\n",
       "    </tr>\n",
       "    <tr>\n",
       "      <th>min</th>\n",
       "      <td>1.062393e+06</td>\n",
       "      <td>5.114589e+06</td>\n",
       "      <td>NaN</td>\n",
       "      <td>5.000000e+01</td>\n",
       "      <td>NaN</td>\n",
       "    </tr>\n",
       "    <tr>\n",
       "      <th>25%</th>\n",
       "      <td>1.143481e+09</td>\n",
       "      <td>1.043655e+09</td>\n",
       "      <td>NaN</td>\n",
       "      <td>1.190000e+03</td>\n",
       "      <td>NaN</td>\n",
       "    </tr>\n",
       "    <tr>\n",
       "      <th>50%</th>\n",
       "      <td>2.144499e+09</td>\n",
       "      <td>2.150274e+09</td>\n",
       "      <td>NaN</td>\n",
       "      <td>2.955000e+03</td>\n",
       "      <td>NaN</td>\n",
       "    </tr>\n",
       "    <tr>\n",
       "      <th>75%</th>\n",
       "      <td>3.256513e+09</td>\n",
       "      <td>3.146991e+09</td>\n",
       "      <td>NaN</td>\n",
       "      <td>8.134250e+03</td>\n",
       "      <td>NaN</td>\n",
       "    </tr>\n",
       "    <tr>\n",
       "      <th>max</th>\n",
       "      <td>4.288552e+09</td>\n",
       "      <td>4.283872e+09</td>\n",
       "      <td>NaN</td>\n",
       "      <td>1.294500e+06</td>\n",
       "      <td>NaN</td>\n",
       "    </tr>\n",
       "  </tbody>\n",
       "</table>\n",
       "</div>"
      ],
      "text/plain": [
       "        transactionId     visitorId                 date       revenue group\n",
       "count   1.016000e+03   1.016000e+03  1016                 1.016000e+03  1016\n",
       "unique NaN            NaN            31                  NaN            2   \n",
       "top    NaN            NaN            2019-08-05 00:00:00 NaN            B   \n",
       "freq   NaN            NaN            43                  NaN            548 \n",
       "first  NaN            NaN            2019-08-01 00:00:00 NaN            NaN \n",
       "last   NaN            NaN            2019-08-31 00:00:00 NaN            NaN \n",
       "mean    2.155085e+09   2.128677e+09  NaN                  8.300815e+03  NaN \n",
       "std     1.234372e+09   1.221578e+09  NaN                  4.212199e+04  NaN \n",
       "min     1.062393e+06   5.114589e+06  NaN                  5.000000e+01  NaN \n",
       "25%     1.143481e+09   1.043655e+09  NaN                  1.190000e+03  NaN \n",
       "50%     2.144499e+09   2.150274e+09  NaN                  2.955000e+03  NaN \n",
       "75%     3.256513e+09   3.146991e+09  NaN                  8.134250e+03  NaN \n",
       "max     4.288552e+09   4.283872e+09  NaN                  1.294500e+06  NaN "
      ]
     },
     "execution_count": 9,
     "metadata": {},
     "output_type": "execute_result"
    }
   ],
   "source": [
    "orders.describe(include='all')"
   ]
  },
  {
   "cell_type": "markdown",
   "metadata": {},
   "source": [
    "Распределения практически не изменились после удаления двойных клиентов."
   ]
  },
  {
   "cell_type": "code",
   "execution_count": 10,
   "metadata": {},
   "outputs": [],
   "source": [
    "visitors_init = pd.read_csv(\"visitors.csv\")"
   ]
  },
  {
   "cell_type": "code",
   "execution_count": 11,
   "metadata": {},
   "outputs": [
    {
     "name": "stdout",
     "output_type": "stream",
     "text": [
      "<class 'pandas.core.frame.DataFrame'>\n",
      "RangeIndex: 62 entries, 0 to 61\n",
      "Data columns (total 3 columns):\n",
      " #   Column    Non-Null Count  Dtype \n",
      "---  ------    --------------  ----- \n",
      " 0   date      62 non-null     object\n",
      " 1   group     62 non-null     object\n",
      " 2   visitors  62 non-null     int64 \n",
      "dtypes: int64(1), object(2)\n",
      "memory usage: 1.6+ KB\n"
     ]
    }
   ],
   "source": [
    "visitors_init.info()"
   ]
  },
  {
   "cell_type": "code",
   "execution_count": 15,
   "metadata": {},
   "outputs": [],
   "source": [
    "visitors_init['date'] = visitors_init['date'].map(lambda x : dt.strptime(x, '%Y-%m-%d'))"
   ]
  },
  {
   "cell_type": "code",
   "execution_count": 16,
   "metadata": {},
   "outputs": [
    {
     "data": {
      "text/html": [
       "<div>\n",
       "<style scoped>\n",
       "    .dataframe tbody tr th:only-of-type {\n",
       "        vertical-align: middle;\n",
       "    }\n",
       "\n",
       "    .dataframe tbody tr th {\n",
       "        vertical-align: top;\n",
       "    }\n",
       "\n",
       "    .dataframe thead th {\n",
       "        text-align: right;\n",
       "    }\n",
       "</style>\n",
       "<table border=\"1\" class=\"dataframe\">\n",
       "  <thead>\n",
       "    <tr style=\"text-align: right;\">\n",
       "      <th></th>\n",
       "      <th>date</th>\n",
       "      <th>group</th>\n",
       "      <th>visitors</th>\n",
       "    </tr>\n",
       "  </thead>\n",
       "  <tbody>\n",
       "    <tr>\n",
       "      <th>0</th>\n",
       "      <td>2019-08-01</td>\n",
       "      <td>A</td>\n",
       "      <td>719</td>\n",
       "    </tr>\n",
       "    <tr>\n",
       "      <th>1</th>\n",
       "      <td>2019-08-02</td>\n",
       "      <td>A</td>\n",
       "      <td>619</td>\n",
       "    </tr>\n",
       "    <tr>\n",
       "      <th>2</th>\n",
       "      <td>2019-08-03</td>\n",
       "      <td>A</td>\n",
       "      <td>507</td>\n",
       "    </tr>\n",
       "    <tr>\n",
       "      <th>3</th>\n",
       "      <td>2019-08-04</td>\n",
       "      <td>A</td>\n",
       "      <td>717</td>\n",
       "    </tr>\n",
       "    <tr>\n",
       "      <th>4</th>\n",
       "      <td>2019-08-05</td>\n",
       "      <td>A</td>\n",
       "      <td>756</td>\n",
       "    </tr>\n",
       "  </tbody>\n",
       "</table>\n",
       "</div>"
      ],
      "text/plain": [
       "        date group  visitors\n",
       "0 2019-08-01  A     719     \n",
       "1 2019-08-02  A     619     \n",
       "2 2019-08-03  A     507     \n",
       "3 2019-08-04  A     717     \n",
       "4 2019-08-05  A     756     "
      ]
     },
     "execution_count": 16,
     "metadata": {},
     "output_type": "execute_result"
    }
   ],
   "source": [
    "visitors_init.head()"
   ]
  },
  {
   "cell_type": "code",
   "execution_count": 17,
   "metadata": {},
   "outputs": [
    {
     "data": {
      "text/html": [
       "<div>\n",
       "<style scoped>\n",
       "    .dataframe tbody tr th:only-of-type {\n",
       "        vertical-align: middle;\n",
       "    }\n",
       "\n",
       "    .dataframe tbody tr th {\n",
       "        vertical-align: top;\n",
       "    }\n",
       "\n",
       "    .dataframe thead th {\n",
       "        text-align: right;\n",
       "    }\n",
       "</style>\n",
       "<table border=\"1\" class=\"dataframe\">\n",
       "  <thead>\n",
       "    <tr style=\"text-align: right;\">\n",
       "      <th></th>\n",
       "      <th>date</th>\n",
       "      <th>group</th>\n",
       "      <th>visitors</th>\n",
       "    </tr>\n",
       "  </thead>\n",
       "  <tbody>\n",
       "    <tr>\n",
       "      <th>count</th>\n",
       "      <td>62</td>\n",
       "      <td>62</td>\n",
       "      <td>62.000000</td>\n",
       "    </tr>\n",
       "    <tr>\n",
       "      <th>unique</th>\n",
       "      <td>31</td>\n",
       "      <td>2</td>\n",
       "      <td>NaN</td>\n",
       "    </tr>\n",
       "    <tr>\n",
       "      <th>top</th>\n",
       "      <td>2019-08-27 00:00:00</td>\n",
       "      <td>B</td>\n",
       "      <td>NaN</td>\n",
       "    </tr>\n",
       "    <tr>\n",
       "      <th>freq</th>\n",
       "      <td>2</td>\n",
       "      <td>31</td>\n",
       "      <td>NaN</td>\n",
       "    </tr>\n",
       "    <tr>\n",
       "      <th>first</th>\n",
       "      <td>2019-08-01 00:00:00</td>\n",
       "      <td>NaN</td>\n",
       "      <td>NaN</td>\n",
       "    </tr>\n",
       "    <tr>\n",
       "      <th>last</th>\n",
       "      <td>2019-08-31 00:00:00</td>\n",
       "      <td>NaN</td>\n",
       "      <td>NaN</td>\n",
       "    </tr>\n",
       "    <tr>\n",
       "      <th>mean</th>\n",
       "      <td>NaN</td>\n",
       "      <td>NaN</td>\n",
       "      <td>607.290323</td>\n",
       "    </tr>\n",
       "    <tr>\n",
       "      <th>std</th>\n",
       "      <td>NaN</td>\n",
       "      <td>NaN</td>\n",
       "      <td>114.400560</td>\n",
       "    </tr>\n",
       "    <tr>\n",
       "      <th>min</th>\n",
       "      <td>NaN</td>\n",
       "      <td>NaN</td>\n",
       "      <td>361.000000</td>\n",
       "    </tr>\n",
       "    <tr>\n",
       "      <th>25%</th>\n",
       "      <td>NaN</td>\n",
       "      <td>NaN</td>\n",
       "      <td>534.000000</td>\n",
       "    </tr>\n",
       "    <tr>\n",
       "      <th>50%</th>\n",
       "      <td>NaN</td>\n",
       "      <td>NaN</td>\n",
       "      <td>624.500000</td>\n",
       "    </tr>\n",
       "    <tr>\n",
       "      <th>75%</th>\n",
       "      <td>NaN</td>\n",
       "      <td>NaN</td>\n",
       "      <td>710.500000</td>\n",
       "    </tr>\n",
       "    <tr>\n",
       "      <th>max</th>\n",
       "      <td>NaN</td>\n",
       "      <td>NaN</td>\n",
       "      <td>770.000000</td>\n",
       "    </tr>\n",
       "  </tbody>\n",
       "</table>\n",
       "</div>"
      ],
      "text/plain": [
       "                       date group    visitors\n",
       "count   62                   62    62.000000 \n",
       "unique  31                   2    NaN        \n",
       "top     2019-08-27 00:00:00  B    NaN        \n",
       "freq    2                    31   NaN        \n",
       "first   2019-08-01 00:00:00  NaN  NaN        \n",
       "last    2019-08-31 00:00:00  NaN  NaN        \n",
       "mean    NaN                  NaN   607.290323\n",
       "std     NaN                  NaN   114.400560\n",
       "min     NaN                  NaN   361.000000\n",
       "25%     NaN                  NaN   534.000000\n",
       "50%     NaN                  NaN   624.500000\n",
       "75%     NaN                  NaN   710.500000\n",
       "max     NaN                  NaN   770.000000"
      ]
     },
     "execution_count": 17,
     "metadata": {},
     "output_type": "execute_result"
    }
   ],
   "source": [
    "visitors_init.describe(include='all')"
   ]
  },
  {
   "cell_type": "markdown",
   "metadata": {},
   "source": [
    "Все входы клиентов из задвоенной группы удалить не можем, уберем хотя бы очевидные, когда они делали покупки. Посчитаем эти входы и вычтем из соответствующего кол-во пользователей в эти дни и группы."
   ]
  },
  {
   "cell_type": "code",
   "execution_count": 18,
   "metadata": {},
   "outputs": [
    {
     "data": {
      "text/html": [
       "<div>\n",
       "<style scoped>\n",
       "    .dataframe tbody tr th:only-of-type {\n",
       "        vertical-align: middle;\n",
       "    }\n",
       "\n",
       "    .dataframe tbody tr th {\n",
       "        vertical-align: top;\n",
       "    }\n",
       "\n",
       "    .dataframe thead th {\n",
       "        text-align: right;\n",
       "    }\n",
       "</style>\n",
       "<table border=\"1\" class=\"dataframe\">\n",
       "  <thead>\n",
       "    <tr style=\"text-align: right;\">\n",
       "      <th></th>\n",
       "      <th>date</th>\n",
       "      <th>group</th>\n",
       "      <th>n_buyers</th>\n",
       "      <th>visitors</th>\n",
       "    </tr>\n",
       "  </thead>\n",
       "  <tbody>\n",
       "    <tr>\n",
       "      <th>0</th>\n",
       "      <td>2019-08-01</td>\n",
       "      <td>A</td>\n",
       "      <td>1.0</td>\n",
       "      <td>719</td>\n",
       "    </tr>\n",
       "    <tr>\n",
       "      <th>1</th>\n",
       "      <td>2019-08-02</td>\n",
       "      <td>A</td>\n",
       "      <td>1.0</td>\n",
       "      <td>619</td>\n",
       "    </tr>\n",
       "    <tr>\n",
       "      <th>2</th>\n",
       "      <td>2019-08-03</td>\n",
       "      <td>A</td>\n",
       "      <td>0.0</td>\n",
       "      <td>507</td>\n",
       "    </tr>\n",
       "    <tr>\n",
       "      <th>3</th>\n",
       "      <td>2019-08-04</td>\n",
       "      <td>A</td>\n",
       "      <td>5.0</td>\n",
       "      <td>717</td>\n",
       "    </tr>\n",
       "    <tr>\n",
       "      <th>4</th>\n",
       "      <td>2019-08-05</td>\n",
       "      <td>A</td>\n",
       "      <td>3.0</td>\n",
       "      <td>756</td>\n",
       "    </tr>\n",
       "  </tbody>\n",
       "</table>\n",
       "</div>"
      ],
      "text/plain": [
       "        date group  n_buyers  visitors\n",
       "0 2019-08-01  A     1.0       719     \n",
       "1 2019-08-02  A     1.0       619     \n",
       "2 2019-08-03  A     0.0       507     \n",
       "3 2019-08-04  A     5.0       717     \n",
       "4 2019-08-05  A     3.0       756     "
      ]
     },
     "execution_count": 18,
     "metadata": {},
     "output_type": "execute_result"
    }
   ],
   "source": [
    "groupAB_visits = groupAB_orders.groupby(['date', 'group']).agg({'group': 'count'})\n",
    "groupAB_visits.columns = ['n_buyers']\n",
    "visitors = groupAB_visits.merge(visitors_init, how = 'right', on = ['date', 'group'])\n",
    "visitors = visitors.fillna(0)\n",
    "visitors.head()"
   ]
  },
  {
   "cell_type": "code",
   "execution_count": 19,
   "metadata": {},
   "outputs": [
    {
     "data": {
      "text/html": [
       "<div>\n",
       "<style scoped>\n",
       "    .dataframe tbody tr th:only-of-type {\n",
       "        vertical-align: middle;\n",
       "    }\n",
       "\n",
       "    .dataframe tbody tr th {\n",
       "        vertical-align: top;\n",
       "    }\n",
       "\n",
       "    .dataframe thead th {\n",
       "        text-align: right;\n",
       "    }\n",
       "</style>\n",
       "<table border=\"1\" class=\"dataframe\">\n",
       "  <thead>\n",
       "    <tr style=\"text-align: right;\">\n",
       "      <th></th>\n",
       "      <th>date</th>\n",
       "      <th>group</th>\n",
       "      <th>visitors</th>\n",
       "    </tr>\n",
       "  </thead>\n",
       "  <tbody>\n",
       "    <tr>\n",
       "      <th>0</th>\n",
       "      <td>2019-08-01</td>\n",
       "      <td>A</td>\n",
       "      <td>718.0</td>\n",
       "    </tr>\n",
       "    <tr>\n",
       "      <th>1</th>\n",
       "      <td>2019-08-02</td>\n",
       "      <td>A</td>\n",
       "      <td>618.0</td>\n",
       "    </tr>\n",
       "    <tr>\n",
       "      <th>2</th>\n",
       "      <td>2019-08-03</td>\n",
       "      <td>A</td>\n",
       "      <td>507.0</td>\n",
       "    </tr>\n",
       "    <tr>\n",
       "      <th>3</th>\n",
       "      <td>2019-08-04</td>\n",
       "      <td>A</td>\n",
       "      <td>712.0</td>\n",
       "    </tr>\n",
       "    <tr>\n",
       "      <th>4</th>\n",
       "      <td>2019-08-05</td>\n",
       "      <td>A</td>\n",
       "      <td>753.0</td>\n",
       "    </tr>\n",
       "  </tbody>\n",
       "</table>\n",
       "</div>"
      ],
      "text/plain": [
       "        date group  visitors\n",
       "0 2019-08-01  A     718.0   \n",
       "1 2019-08-02  A     618.0   \n",
       "2 2019-08-03  A     507.0   \n",
       "3 2019-08-04  A     712.0   \n",
       "4 2019-08-05  A     753.0   "
      ]
     },
     "execution_count": 19,
     "metadata": {},
     "output_type": "execute_result"
    }
   ],
   "source": [
    "visitors['visitors'] = visitors['visitors'] - visitors['n_buyers']\n",
    "visitors = visitors.drop(columns = ['n_buyers'])\n",
    "visitors.head()"
   ]
  },
  {
   "cell_type": "code",
   "execution_count": 20,
   "metadata": {},
   "outputs": [],
   "source": [
    "visitors['visitors'] = visitors['visitors'].astype('int')"
   ]
  },
  {
   "cell_type": "code",
   "execution_count": 21,
   "metadata": {},
   "outputs": [
    {
     "data": {
      "text/html": [
       "<div>\n",
       "<style scoped>\n",
       "    .dataframe tbody tr th:only-of-type {\n",
       "        vertical-align: middle;\n",
       "    }\n",
       "\n",
       "    .dataframe tbody tr th {\n",
       "        vertical-align: top;\n",
       "    }\n",
       "\n",
       "    .dataframe thead th {\n",
       "        text-align: right;\n",
       "    }\n",
       "</style>\n",
       "<table border=\"1\" class=\"dataframe\">\n",
       "  <thead>\n",
       "    <tr style=\"text-align: right;\">\n",
       "      <th></th>\n",
       "      <th>date</th>\n",
       "      <th>group</th>\n",
       "      <th>visitors</th>\n",
       "    </tr>\n",
       "  </thead>\n",
       "  <tbody>\n",
       "    <tr>\n",
       "      <th>count</th>\n",
       "      <td>62</td>\n",
       "      <td>62</td>\n",
       "      <td>62.000000</td>\n",
       "    </tr>\n",
       "    <tr>\n",
       "      <th>unique</th>\n",
       "      <td>31</td>\n",
       "      <td>2</td>\n",
       "      <td>NaN</td>\n",
       "    </tr>\n",
       "    <tr>\n",
       "      <th>top</th>\n",
       "      <td>2019-08-27 00:00:00</td>\n",
       "      <td>B</td>\n",
       "      <td>NaN</td>\n",
       "    </tr>\n",
       "    <tr>\n",
       "      <th>freq</th>\n",
       "      <td>2</td>\n",
       "      <td>31</td>\n",
       "      <td>NaN</td>\n",
       "    </tr>\n",
       "    <tr>\n",
       "      <th>first</th>\n",
       "      <td>2019-08-01 00:00:00</td>\n",
       "      <td>NaN</td>\n",
       "      <td>NaN</td>\n",
       "    </tr>\n",
       "    <tr>\n",
       "      <th>last</th>\n",
       "      <td>2019-08-31 00:00:00</td>\n",
       "      <td>NaN</td>\n",
       "      <td>NaN</td>\n",
       "    </tr>\n",
       "    <tr>\n",
       "      <th>mean</th>\n",
       "      <td>NaN</td>\n",
       "      <td>NaN</td>\n",
       "      <td>604.370968</td>\n",
       "    </tr>\n",
       "    <tr>\n",
       "      <th>std</th>\n",
       "      <td>NaN</td>\n",
       "      <td>NaN</td>\n",
       "      <td>113.910841</td>\n",
       "    </tr>\n",
       "    <tr>\n",
       "      <th>min</th>\n",
       "      <td>NaN</td>\n",
       "      <td>NaN</td>\n",
       "      <td>361.000000</td>\n",
       "    </tr>\n",
       "    <tr>\n",
       "      <th>25%</th>\n",
       "      <td>NaN</td>\n",
       "      <td>NaN</td>\n",
       "      <td>529.250000</td>\n",
       "    </tr>\n",
       "    <tr>\n",
       "      <th>50%</th>\n",
       "      <td>NaN</td>\n",
       "      <td>NaN</td>\n",
       "      <td>621.000000</td>\n",
       "    </tr>\n",
       "    <tr>\n",
       "      <th>75%</th>\n",
       "      <td>NaN</td>\n",
       "      <td>NaN</td>\n",
       "      <td>707.500000</td>\n",
       "    </tr>\n",
       "    <tr>\n",
       "      <th>max</th>\n",
       "      <td>NaN</td>\n",
       "      <td>NaN</td>\n",
       "      <td>768.000000</td>\n",
       "    </tr>\n",
       "  </tbody>\n",
       "</table>\n",
       "</div>"
      ],
      "text/plain": [
       "                       date group    visitors\n",
       "count   62                   62    62.000000 \n",
       "unique  31                   2    NaN        \n",
       "top     2019-08-27 00:00:00  B    NaN        \n",
       "freq    2                    31   NaN        \n",
       "first   2019-08-01 00:00:00  NaN  NaN        \n",
       "last    2019-08-31 00:00:00  NaN  NaN        \n",
       "mean    NaN                  NaN   604.370968\n",
       "std     NaN                  NaN   113.910841\n",
       "min     NaN                  NaN   361.000000\n",
       "25%     NaN                  NaN   529.250000\n",
       "50%     NaN                  NaN   621.000000\n",
       "75%     NaN                  NaN   707.500000\n",
       "max     NaN                  NaN   768.000000"
      ]
     },
     "execution_count": 21,
     "metadata": {},
     "output_type": "execute_result"
    }
   ],
   "source": [
    "visitors.describe(include='all')"
   ]
  },
  {
   "cell_type": "markdown",
   "metadata": {},
   "source": [
    "Типы данных исправили, пользователей, которые входили в обе группы насколько возможно удалили - теперь можно сравнить, какая группа лучше."
   ]
  },
  {
   "cell_type": "markdown",
   "metadata": {},
   "source": [
    "### Сравним куммулятивные значения по группам (выручка, средний чек, конверсия)"
   ]
  },
  {
   "cell_type": "markdown",
   "metadata": {},
   "source": [
    "**Табица кумулятивных значений**  \n",
    "По таблицам orders и visitors посчитаем кумулятивные величины (заказы, посетители, покупатели, выручка) по группам и объединим заказы и посещения в одну таблицу cumul_data."
   ]
  },
  {
   "cell_type": "code",
   "execution_count": 22,
   "metadata": {},
   "outputs": [
    {
     "data": {
      "text/html": [
       "<div>\n",
       "<style scoped>\n",
       "    .dataframe tbody tr th:only-of-type {\n",
       "        vertical-align: middle;\n",
       "    }\n",
       "\n",
       "    .dataframe tbody tr th {\n",
       "        vertical-align: top;\n",
       "    }\n",
       "\n",
       "    .dataframe thead th {\n",
       "        text-align: right;\n",
       "    }\n",
       "</style>\n",
       "<table border=\"1\" class=\"dataframe\">\n",
       "  <thead>\n",
       "    <tr style=\"text-align: right;\">\n",
       "      <th></th>\n",
       "      <th>date</th>\n",
       "      <th>group</th>\n",
       "      <th>orders</th>\n",
       "      <th>buyers</th>\n",
       "      <th>revenue</th>\n",
       "      <th>visitors</th>\n",
       "    </tr>\n",
       "  </thead>\n",
       "  <tbody>\n",
       "    <tr>\n",
       "      <th>0</th>\n",
       "      <td>2019-08-01</td>\n",
       "      <td>A</td>\n",
       "      <td>23</td>\n",
       "      <td>19</td>\n",
       "      <td>142779</td>\n",
       "      <td>718</td>\n",
       "    </tr>\n",
       "    <tr>\n",
       "      <th>1</th>\n",
       "      <td>2019-08-02</td>\n",
       "      <td>A</td>\n",
       "      <td>42</td>\n",
       "      <td>36</td>\n",
       "      <td>234381</td>\n",
       "      <td>1336</td>\n",
       "    </tr>\n",
       "    <tr>\n",
       "      <th>2</th>\n",
       "      <td>2019-08-03</td>\n",
       "      <td>A</td>\n",
       "      <td>66</td>\n",
       "      <td>60</td>\n",
       "      <td>346854</td>\n",
       "      <td>1843</td>\n",
       "    </tr>\n",
       "    <tr>\n",
       "      <th>3</th>\n",
       "      <td>2019-08-04</td>\n",
       "      <td>A</td>\n",
       "      <td>77</td>\n",
       "      <td>71</td>\n",
       "      <td>388030</td>\n",
       "      <td>2555</td>\n",
       "    </tr>\n",
       "    <tr>\n",
       "      <th>4</th>\n",
       "      <td>2019-08-05</td>\n",
       "      <td>A</td>\n",
       "      <td>99</td>\n",
       "      <td>92</td>\n",
       "      <td>474413</td>\n",
       "      <td>3308</td>\n",
       "    </tr>\n",
       "  </tbody>\n",
       "</table>\n",
       "</div>"
      ],
      "text/plain": [
       "        date group  orders  buyers  revenue  visitors\n",
       "0 2019-08-01  A     23      19      142779   718     \n",
       "1 2019-08-02  A     42      36      234381   1336    \n",
       "2 2019-08-03  A     66      60      346854   1843    \n",
       "3 2019-08-04  A     77      71      388030   2555    \n",
       "4 2019-08-05  A     99      92      474413   3308    "
      ]
     },
     "execution_count": 22,
     "metadata": {},
     "output_type": "execute_result"
    }
   ],
   "source": [
    "dategroup = visitors[['date', 'group']].drop_duplicates()\n",
    "\n",
    "cumul_orders = dategroup.apply(lambda x : orders[np.logical_and(orders['group']==x['group'], orders['date']<=x['date'])]\\\n",
    "                    .agg({'date':'max', 'group':'max', 'transactionId':'nunique','visitorId':'nunique','revenue':'sum'})\\\n",
    "                               , axis=1)\n",
    "cumul_visitors = dategroup.apply(lambda x : visitors[np.logical_and(visitors['group']==x['group'], \\\n",
    "                                                                    visitors['date']<=x['date'])] \\\n",
    "                            .agg({'date':'max', 'group':'max', 'visitors':'sum'}), \\\n",
    "                                 axis=1)\n",
    "cumul_data = cumul_orders.merge(cumul_visitors, how='right', on = ['group', 'date'])\n",
    "cumul_data.columns = ['date', 'group', 'orders', 'buyers', 'revenue', 'visitors']\n",
    "cumul_data.head()"
   ]
  },
  {
   "cell_type": "markdown",
   "metadata": {},
   "source": [
    "#### Кумулятивная выручка по группам"
   ]
  },
  {
   "cell_type": "code",
   "execution_count": 23,
   "metadata": {},
   "outputs": [
    {
     "data": {
      "image/png": "[encoded data removed]",
      "text/plain": [
       "<Figure size 936x576 with 1 Axes>"
      ]
     },
     "metadata": {
      "needs_background": "light"
     },
     "output_type": "display_data"
    }
   ],
   "source": [
    "plt.figure(figsize=(13,8))\n",
    "sns.lineplot(x='date', y='revenue', data=cumul_data, hue='group')\n",
    "plt.title('Кумулятивная выручка по группам', size=14)\n",
    "plt.xlabel('Дата', size=12)\n",
    "plt.ylabel('Кумулятивная выручка', size=12)\n",
    "plt.show()"
   ]
  },
  {
   "cell_type": "markdown",
   "metadata": {},
   "source": [
    "На графике видим, что до 18.08 выручка по группам растет почти с одной скоростью, выручка по группе В немного выше. Потом происходит резкий скачок кумулятивной выручки группы В, далее рост двух групп примерно параллелен. Похоже 19.08 в группе В был скачок количества чеков или нехарактерно высокие чеки, далее проверим соотношение также после очистки данных от выбросов."
   ]
  },
  {
   "cell_type": "markdown",
   "metadata": {},
   "source": [
    "#### Кумулятивный средний чек по группам"
   ]
  },
  {
   "cell_type": "code",
   "execution_count": 24,
   "metadata": {},
   "outputs": [
    {
     "data": {
      "text/html": [
       "<div>\n",
       "<style scoped>\n",
       "    .dataframe tbody tr th:only-of-type {\n",
       "        vertical-align: middle;\n",
       "    }\n",
       "\n",
       "    .dataframe tbody tr th {\n",
       "        vertical-align: top;\n",
       "    }\n",
       "\n",
       "    .dataframe thead th {\n",
       "        text-align: right;\n",
       "    }\n",
       "</style>\n",
       "<table border=\"1\" class=\"dataframe\">\n",
       "  <thead>\n",
       "    <tr style=\"text-align: right;\">\n",
       "      <th></th>\n",
       "      <th>date</th>\n",
       "      <th>group</th>\n",
       "      <th>orders</th>\n",
       "      <th>buyers</th>\n",
       "      <th>revenue</th>\n",
       "      <th>visitors</th>\n",
       "      <th>cumul_receipt</th>\n",
       "    </tr>\n",
       "  </thead>\n",
       "  <tbody>\n",
       "    <tr>\n",
       "      <th>0</th>\n",
       "      <td>2019-08-01</td>\n",
       "      <td>A</td>\n",
       "      <td>23</td>\n",
       "      <td>19</td>\n",
       "      <td>142779</td>\n",
       "      <td>718</td>\n",
       "      <td>6207.782609</td>\n",
       "    </tr>\n",
       "    <tr>\n",
       "      <th>1</th>\n",
       "      <td>2019-08-02</td>\n",
       "      <td>A</td>\n",
       "      <td>42</td>\n",
       "      <td>36</td>\n",
       "      <td>234381</td>\n",
       "      <td>1336</td>\n",
       "      <td>5580.500000</td>\n",
       "    </tr>\n",
       "    <tr>\n",
       "      <th>2</th>\n",
       "      <td>2019-08-03</td>\n",
       "      <td>A</td>\n",
       "      <td>66</td>\n",
       "      <td>60</td>\n",
       "      <td>346854</td>\n",
       "      <td>1843</td>\n",
       "      <td>5255.363636</td>\n",
       "    </tr>\n",
       "    <tr>\n",
       "      <th>3</th>\n",
       "      <td>2019-08-04</td>\n",
       "      <td>A</td>\n",
       "      <td>77</td>\n",
       "      <td>71</td>\n",
       "      <td>388030</td>\n",
       "      <td>2555</td>\n",
       "      <td>5039.350649</td>\n",
       "    </tr>\n",
       "    <tr>\n",
       "      <th>4</th>\n",
       "      <td>2019-08-05</td>\n",
       "      <td>A</td>\n",
       "      <td>99</td>\n",
       "      <td>92</td>\n",
       "      <td>474413</td>\n",
       "      <td>3308</td>\n",
       "      <td>4792.050505</td>\n",
       "    </tr>\n",
       "  </tbody>\n",
       "</table>\n",
       "</div>"
      ],
      "text/plain": [
       "        date group  orders  buyers  revenue  visitors  cumul_receipt\n",
       "0 2019-08-01  A     23      19      142779   718       6207.782609  \n",
       "1 2019-08-02  A     42      36      234381   1336      5580.500000  \n",
       "2 2019-08-03  A     66      60      346854   1843      5255.363636  \n",
       "3 2019-08-04  A     77      71      388030   2555      5039.350649  \n",
       "4 2019-08-05  A     99      92      474413   3308      4792.050505  "
      ]
     },
     "execution_count": 24,
     "metadata": {},
     "output_type": "execute_result"
    }
   ],
   "source": [
    "cumul_data['cumul_receipt'] = cumul_data['revenue'] / cumul_data['orders']\n",
    "cumul_data.head()"
   ]
  },
  {
   "cell_type": "code",
   "execution_count": 25,
   "metadata": {},
   "outputs": [
    {
     "data": {
      "image/png": "[encoded data removed]",
      "text/plain": [
       "<Figure size 936x576 with 1 Axes>"
      ]
     },
     "metadata": {
      "needs_background": "light"
     },
     "output_type": "display_data"
    }
   ],
   "source": [
    "plt.figure(figsize=(13,8))\n",
    "sns.lineplot(x='date', y='cumul_receipt', data=cumul_data, hue='group')\n",
    "plt.title('Кумулятивный чек по группам', size=14)\n",
    "plt.xlabel('Дата', size=12)\n",
    "plt.ylabel('Кумулятивный чек', size=12)\n",
    "plt.show()"
   ]
  },
  {
   "cell_type": "markdown",
   "metadata": {},
   "source": [
    "Средние чеки в начале месяца колебался. 19.08 в группе В резко вырос, после этого равномерно опускается и вероятно продолжит уменьшаться. Средний чек по группе А к концу месяца перестал сильно колебаться, растет или сохраняется на одном уровне.\n",
    "Т.к. в данных похоже присутствуют выбросы, то делать выводы и рекомендации для заказчика по таким данным еще рано."
   ]
  },
  {
   "cell_type": "markdown",
   "metadata": {},
   "source": [
    "#### Относительное изменение кумулятивного среднего чека группы B к группе A.  <a name=\"receipt_pic\"></a>\n",
    "Из таблицы с кумулятивными данными cumul_data создадим таблицу, где по каждой дате в одной строке будет сразу информация по обеим группам. Для этого вначале выделим отдельные таблицы для групп, потом их объединим в одну таблицу по дате. По этой таблице будем считать относительные изменения величин в одной группе к другой."
   ]
  },
  {
   "cell_type": "markdown",
   "metadata": {},
   "source": [
    "<font size='2'>[Вывод по А/В тесту (в конец исследования)](#result)</font>"
   ]
  },
  {
   "cell_type": "code",
   "execution_count": 26,
   "metadata": {},
   "outputs": [
    {
     "data": {
      "text/html": [
       "<div>\n",
       "<style scoped>\n",
       "    .dataframe tbody tr th:only-of-type {\n",
       "        vertical-align: middle;\n",
       "    }\n",
       "\n",
       "    .dataframe tbody tr th {\n",
       "        vertical-align: top;\n",
       "    }\n",
       "\n",
       "    .dataframe thead th {\n",
       "        text-align: right;\n",
       "    }\n",
       "</style>\n",
       "<table border=\"1\" class=\"dataframe\">\n",
       "  <thead>\n",
       "    <tr style=\"text-align: right;\">\n",
       "      <th></th>\n",
       "      <th>date</th>\n",
       "      <th>groupA</th>\n",
       "      <th>ordersA</th>\n",
       "      <th>buyersA</th>\n",
       "      <th>revenueA</th>\n",
       "      <th>visitorsA</th>\n",
       "      <th>cumul_receiptA</th>\n",
       "      <th>groupB</th>\n",
       "      <th>ordersB</th>\n",
       "      <th>buyersB</th>\n",
       "      <th>revenueB</th>\n",
       "      <th>visitorsB</th>\n",
       "      <th>cumul_receiptB</th>\n",
       "    </tr>\n",
       "  </thead>\n",
       "  <tbody>\n",
       "    <tr>\n",
       "      <th>0</th>\n",
       "      <td>2019-08-01</td>\n",
       "      <td>A</td>\n",
       "      <td>23</td>\n",
       "      <td>19</td>\n",
       "      <td>142779</td>\n",
       "      <td>718</td>\n",
       "      <td>6207.782609</td>\n",
       "      <td>B</td>\n",
       "      <td>17</td>\n",
       "      <td>17</td>\n",
       "      <td>59758</td>\n",
       "      <td>709</td>\n",
       "      <td>3515.176471</td>\n",
       "    </tr>\n",
       "    <tr>\n",
       "      <th>1</th>\n",
       "      <td>2019-08-02</td>\n",
       "      <td>A</td>\n",
       "      <td>42</td>\n",
       "      <td>36</td>\n",
       "      <td>234381</td>\n",
       "      <td>1336</td>\n",
       "      <td>5580.500000</td>\n",
       "      <td>B</td>\n",
       "      <td>40</td>\n",
       "      <td>39</td>\n",
       "      <td>221801</td>\n",
       "      <td>1289</td>\n",
       "      <td>5545.025000</td>\n",
       "    </tr>\n",
       "    <tr>\n",
       "      <th>2</th>\n",
       "      <td>2019-08-03</td>\n",
       "      <td>A</td>\n",
       "      <td>66</td>\n",
       "      <td>60</td>\n",
       "      <td>346854</td>\n",
       "      <td>1843</td>\n",
       "      <td>5255.363636</td>\n",
       "      <td>B</td>\n",
       "      <td>54</td>\n",
       "      <td>53</td>\n",
       "      <td>288850</td>\n",
       "      <td>1796</td>\n",
       "      <td>5349.074074</td>\n",
       "    </tr>\n",
       "    <tr>\n",
       "      <th>3</th>\n",
       "      <td>2019-08-04</td>\n",
       "      <td>A</td>\n",
       "      <td>77</td>\n",
       "      <td>71</td>\n",
       "      <td>388030</td>\n",
       "      <td>2555</td>\n",
       "      <td>5039.350649</td>\n",
       "      <td>B</td>\n",
       "      <td>68</td>\n",
       "      <td>66</td>\n",
       "      <td>385740</td>\n",
       "      <td>2563</td>\n",
       "      <td>5672.647059</td>\n",
       "    </tr>\n",
       "    <tr>\n",
       "      <th>4</th>\n",
       "      <td>2019-08-05</td>\n",
       "      <td>A</td>\n",
       "      <td>99</td>\n",
       "      <td>92</td>\n",
       "      <td>474413</td>\n",
       "      <td>3308</td>\n",
       "      <td>4792.050505</td>\n",
       "      <td>B</td>\n",
       "      <td>89</td>\n",
       "      <td>87</td>\n",
       "      <td>475648</td>\n",
       "      <td>3268</td>\n",
       "      <td>5344.359551</td>\n",
       "    </tr>\n",
       "  </tbody>\n",
       "</table>\n",
       "</div>"
      ],
      "text/plain": [
       "        date groupA  ordersA  buyersA  revenueA  visitorsA  cumul_receiptA  \\\n",
       "0 2019-08-01  A      23       19       142779    718        6207.782609      \n",
       "1 2019-08-02  A      42       36       234381    1336       5580.500000      \n",
       "2 2019-08-03  A      66       60       346854    1843       5255.363636      \n",
       "3 2019-08-04  A      77       71       388030    2555       5039.350649      \n",
       "4 2019-08-05  A      99       92       474413    3308       4792.050505      \n",
       "\n",
       "  groupB  ordersB  buyersB  revenueB  visitorsB  cumul_receiptB  \n",
       "0  B      17       17       59758     709        3515.176471     \n",
       "1  B      40       39       221801    1289       5545.025000     \n",
       "2  B      54       53       288850    1796       5349.074074     \n",
       "3  B      68       66       385740    2563       5672.647059     \n",
       "4  B      89       87       475648    3268       5344.359551     "
      ]
     },
     "execution_count": 26,
     "metadata": {},
     "output_type": "execute_result"
    }
   ],
   "source": [
    "cumul_dataA  = cumul_data[cumul_data['group']=='A']\n",
    "cumul_dataB  = cumul_data[cumul_data['group']=='B']\n",
    "cumul_dataAB = cumul_dataA.merge(cumul_dataB, on = 'date', suffixes=['A','B'])\n",
    "cumul_dataAB.head()"
   ]
  },
  {
   "cell_type": "code",
   "execution_count": 27,
   "metadata": {},
   "outputs": [
    {
     "data": {
      "image/png": "[encoded data removed]",
      "text/plain": [
       "<Figure size 936x576 with 1 Axes>"
      ]
     },
     "metadata": {
      "needs_background": "light"
     },
     "output_type": "display_data"
    }
   ],
   "source": [
    "plt.figure(figsize=(13,8))\n",
    "sns.lineplot(cumul_dataAB['date'], (cumul_dataAB['cumul_receiptB'] / cumul_dataAB['cumul_receiptA'] - 1))\n",
    "plt.title('Относительное изменение кумулятивного среднего чека группы B к группе A', size=14)\n",
    "plt.xlabel('Дата', size=12)\n",
    "plt.ylabel('')\n",
    "plt.axhline(y=0, color='black', linestyle='--')\n",
    "plt.axhline(y=0.25, color='grey', linestyle='--')\n",
    "plt.show()"
   ]
  },
  {
   "cell_type": "markdown",
   "metadata": {},
   "source": [
    "График различия между группами колеблется весь месяц, преимущественно выше нуля (у группы В больше). К концу месяца относительное изменение кумулятивного среднего цека группы В относительно А около 0,25 , но падает."
   ]
  },
  {
   "cell_type": "markdown",
   "metadata": {},
   "source": [
    "#### Кумулятивная конверсия по группам"
   ]
  },
  {
   "cell_type": "code",
   "execution_count": 28,
   "metadata": {},
   "outputs": [],
   "source": [
    "cumul_data['conversion'] = cumul_data['orders'] / cumul_data['visitors']\n",
    "cumul_dataAB['conversionA'] = cumul_dataAB['ordersA'] / cumul_dataAB['visitorsA']\n",
    "cumul_dataAB['conversionB'] = cumul_dataAB['ordersB'] / cumul_dataAB['visitorsB']"
   ]
  },
  {
   "cell_type": "code",
   "execution_count": 29,
   "metadata": {},
   "outputs": [
    {
     "data": {
      "image/png": "[encoded data removed]",
      "text/plain": [
       "<Figure size 936x576 with 1 Axes>"
      ]
     },
     "metadata": {
      "needs_background": "light"
     },
     "output_type": "display_data"
    }
   ],
   "source": [
    "plt.figure(figsize=(13,8))\n",
    "sns.lineplot(x='date', y='conversion', data=cumul_data, hue='group')\n",
    "plt.title('Кумулятивная конверсия по группам', size=14)\n",
    "plt.xlabel('Дата', size=12)\n",
    "plt.ylabel('Кумулятивная конверсия', size=12)\n",
    "plt.show()"
   ]
  },
  {
   "cell_type": "markdown",
   "metadata": {},
   "source": [
    "Конверсия по группе В после нескольких колебаний стандартно выше группы А почти весь месяц.\n",
    "Этот график еще и показывает наглядно, что не стоит делать поспешных выводов до того как кумулятивные метрики \"успокоятся\" и например заканчивать этот тест уже через неделю наблюдений."
   ]
  },
  {
   "cell_type": "markdown",
   "metadata": {},
   "source": [
    "#### Относительное изменение кумулятивной конверсии группы B к группе A. <a name=\"conv_pic\"></a>"
   ]
  },
  {
   "cell_type": "markdown",
   "metadata": {},
   "source": [
    "<font size='2'>[Вывод по А/В тесту (в конец исследования)](#result)</font>"
   ]
  },
  {
   "cell_type": "code",
   "execution_count": 30,
   "metadata": {},
   "outputs": [
    {
     "data": {
      "image/png": "[encoded data removed]",
      "text/plain": [
       "<Figure size 936x576 with 1 Axes>"
      ]
     },
     "metadata": {
      "needs_background": "light"
     },
     "output_type": "display_data"
    }
   ],
   "source": [
    "plt.figure(figsize=(13,8))\n",
    "sns.lineplot(cumul_dataAB['date'], (cumul_dataAB['conversionB'] / cumul_dataAB['conversionA'] - 1))\n",
    "plt.title('Относительное изменение кумулятивной конверсии группы B к группе A', size=14)\n",
    "plt.xlabel('Дата', size=12)\n",
    "plt.ylabel('')\n",
    "plt.axhline(y=0, color='black', linestyle='--')\n",
    "plt.axhline(y=0.13, color='grey', linestyle='--')\n",
    "plt.show()"
   ]
  },
  {
   "cell_type": "markdown",
   "metadata": {},
   "source": [
    "В начале теста относительная конверсия сильно колебалась, но потом группа В вышла вперед и, несмотря на некоторые колебания, остается все время выше конверсии группы А."
   ]
  },
  {
   "cell_type": "markdown",
   "metadata": {},
   "source": [
    "### Выбросы и всплески\n",
    "Проверим распределение количества заказов на покупателя и величины чека. Выделим границы, от которых величины считаем аномальными и отсеим при анализе. "
   ]
  },
  {
   "cell_type": "markdown",
   "metadata": {},
   "source": [
    "_Количество заказов на покупателя_"
   ]
  },
  {
   "cell_type": "code",
   "execution_count": 31,
   "metadata": {},
   "outputs": [],
   "source": [
    "orders_by_visitor = orders.groupby('visitorId')['transactionId'].nunique()"
   ]
  },
  {
   "cell_type": "code",
   "execution_count": 32,
   "metadata": {},
   "outputs": [
    {
     "data": {
      "image/png": "[encoded data removed]",
      "text/plain": [
       "<Figure size 936x576 with 1 Axes>"
      ]
     },
     "metadata": {
      "needs_background": "light"
     },
     "output_type": "display_data"
    }
   ],
   "source": [
    "plt.figure(figsize=(13,8))\n",
    "sns.scatterplot(np.arange(0, len(orders_by_visitor)), orders_by_visitor)\n",
    "plt.title('Количество заказов на покупателя', size=14)\n",
    "plt.ylabel('Заказы на одного покупателя', size=12)\n",
    "plt.show()"
   ]
  },
  {
   "cell_type": "markdown",
   "metadata": {},
   "source": [
    "В основном по 1 заказу на клиента, довольно много клиентов делают по 2 покупки. Значения больше 2 скорее всего уже можно считать аномально большими. Проверим по перцентилям."
   ]
  },
  {
   "cell_type": "code",
   "execution_count": 33,
   "metadata": {},
   "outputs": [
    {
     "name": "stdout",
     "output_type": "stream",
     "text": [
      "[1. 2.]\n"
     ]
    }
   ],
   "source": [
    "print(np.percentile(orders_by_visitor, [95, 99]))"
   ]
  },
  {
   "cell_type": "markdown",
   "metadata": {},
   "source": [
    "В качестве аномальных отсеим количества заказов на клиента более 2, это 1% случаев."
   ]
  },
  {
   "cell_type": "markdown",
   "metadata": {},
   "source": [
    "_Стоимость заказа_"
   ]
  },
  {
   "cell_type": "code",
   "execution_count": 34,
   "metadata": {},
   "outputs": [
    {
     "data": {
      "image/png": "[encoded data removed]",
      "text/plain": [
       "<Figure size 936x576 with 1 Axes>"
      ]
     },
     "metadata": {
      "needs_background": "light"
     },
     "output_type": "display_data"
    }
   ],
   "source": [
    "plt.figure(figsize=(13,8))\n",
    "sns.scatterplot(np.arange(0,len(orders['revenue'])), orders['revenue'])\n",
    "plt.title('Стоимости заказов', size=14)\n",
    "plt.xlabel('')\n",
    "plt.ylabel('Стоимости заказов', size=12)\n",
    "plt.show()"
   ]
  },
  {
   "cell_type": "markdown",
   "metadata": {},
   "source": [
    "Среди данных видим один огромный чек. Похоже именно он создал нам такой скачок выручки и из-за него же только по графику границу аномальных значений не определить даже примерно, т.к. она сильно ниже этого одного большого значения. Найдем 95 и 99 перцентили стоимости заказа"
   ]
  },
  {
   "cell_type": "code",
   "execution_count": 35,
   "metadata": {},
   "outputs": [
    {
     "name": "stdout",
     "output_type": "stream",
     "text": [
      "[26785. 53904.]\n"
     ]
    }
   ],
   "source": [
    "print(np.percentile(orders['revenue'], [95, 99]))"
   ]
  },
  {
   "cell_type": "markdown",
   "metadata": {},
   "source": [
    "Границу аномальных значений стоимости заказа возьмем на уровне 35 000, это отбросит около 3% данных."
   ]
  },
  {
   "cell_type": "markdown",
   "metadata": {},
   "source": [
    "### Статистическая значимость различий между группами"
   ]
  },
  {
   "cell_type": "markdown",
   "metadata": {},
   "source": [
    "**Вначале сравним конверсию в первоначальной сырой выборке, не убирая выбросы**"
   ]
  },
  {
   "cell_type": "code",
   "execution_count": 36,
   "metadata": {},
   "outputs": [],
   "source": [
    "#Посчитаем количество заказов каждого клиента, делавшего покупки, отдельно по группам\n",
    "ordersA = orders[orders['group']=='A'].groupby('visitorId')['transactionId'].nunique().reset_index()\n",
    "ordersA.columns = ['visitorId', 'orders_count']\n",
    "\n",
    "ordersB = orders[orders['group']=='B'].groupby('visitorId')['transactionId'].nunique().reset_index()\n",
    "ordersB.columns = ['visitorId', 'orders_count']"
   ]
  },
  {
   "cell_type": "markdown",
   "metadata": {},
   "source": [
    "Создадим для каждой группы ряд чисел из количества покупок, посчитанного выше, и нулей в количестве посетителей, которые ничего не купили.  \n",
    "Для этого вначале посчитаем количество посетилией по каждой группе в count_visits.  \n",
    "Тогда count_visits['A'] - общее количество посетителей в группе А.  \n",
    "Вычтем из этого числа количество записей в таблице ordersA (len(ordersA['visitorID'])), получим количество посетителей, которые ничего не купили. Такое количество нулей добавляем в ряд с количество заказов."
   ]
  },
  {
   "cell_type": "code",
   "execution_count": 37,
   "metadata": {},
   "outputs": [],
   "source": [
    "count_visits = visitors.groupby(['group'])['visitors'].sum()\n",
    "\n",
    "sampleA = pd.concat([ordersA['orders_count'], \\\n",
    "                    pd.Series(0, index=np.arange(0, count_visits['A'] - len(ordersA['visitorId']))\\\n",
    "                    , name='orders_count')], axis=0)\n",
    "\n",
    "sampleB = pd.concat([ordersB['orders_count'], \\\n",
    "                    pd.Series(0, index=np.arange(0, count_visits['B'] - len(ordersB['visitorId']))\\\n",
    "                    , name='orders_count')], axis=0)"
   ]
  },
  {
   "cell_type": "code",
   "execution_count": 38,
   "metadata": {},
   "outputs": [
    {
     "name": "stdout",
     "output_type": "stream",
     "text": [
      "p-value: 0.005\n",
      "Относительный прирост конверсии: 0.160\n"
     ]
    }
   ],
   "source": [
    "#Для сырой выборки\n",
    "print('p-value: {0:.3f}'.format(stats.mannwhitneyu(sampleA, sampleB)[1]))\n",
    "print('Относительный прирост конверсии: {0:.3f}'.format(sampleB.mean() / sampleA.mean() - 1))"
   ]
  },
  {
   "cell_type": "markdown",
   "metadata": {},
   "source": [
    "0.005 < 0.05  \n",
    "Есть статистически значимое различие между группами по конверсии по неочищеным данным.  \n",
    "Теперь сравним средние чеки"
   ]
  },
  {
   "cell_type": "code",
   "execution_count": 39,
   "metadata": {},
   "outputs": [
    {
     "name": "stdout",
     "output_type": "stream",
     "text": [
      "p-value: 0.415\n",
      "Относительный прирост чека: 0.287\n"
     ]
    }
   ],
   "source": [
    "print('p-value: {0:.3f}'.format(stats.mannwhitneyu(orders[orders['group']=='A']['revenue'], \\\n",
    "                                                  orders[orders['group']=='B']['revenue'])[1]))\n",
    "print('Относительный прирост чека: {0:.3f}'.format(orders[orders['group']=='B']['revenue'].mean()/ \\\n",
    "                                                  orders[orders['group']=='A']['revenue'].mean() - 1))"
   ]
  },
  {
   "cell_type": "markdown",
   "metadata": {},
   "source": [
    "Нет статистически значимого различия в размере чеков по сырым данным. Причин отвергать нулевую гипотезу и считать, что в среднем чеке групп есть различия - нет.  \n",
    "Но средний чек группы B значительно выше среднего чека группы A."
   ]
  },
  {
   "cell_type": "markdown",
   "metadata": {},
   "source": [
    "**Теперь отфильтруем выбросы**  \n",
    "Покупатели, которых надо исключить из расчета:"
   ]
  },
  {
   "cell_type": "code",
   "execution_count": 40,
   "metadata": {},
   "outputs": [
    {
     "name": "stdout",
     "output_type": "stream",
     "text": [
      "Количество клиентов, которых надо отфильтровать: 37\n"
     ]
    }
   ],
   "source": [
    "visitors_tofilter = pd.concat([orders_by_visitor[orders_by_visitor>2].reset_index()['visitorId'] \\\n",
    "                               , orders[orders['revenue']>35000]['visitorId']] \\\n",
    "                               , axis=0).unique()\n",
    "print('Количество клиентов, которых надо отфильтровать:', len(visitors_tofilter))"
   ]
  },
  {
   "cell_type": "code",
   "execution_count": 41,
   "metadata": {},
   "outputs": [],
   "source": [
    "sampleA_clean = pd.concat([ordersA[~ordersA['visitorId'].isin(visitors_tofilter)]['orders_count'] \\\n",
    "                        , pd.Series(0, index=np.arange(0, count_visits['A'] - len(ordersA['visitorId']))\\\n",
    "                        , name='orders_count')], axis=0)\n",
    "\n",
    "sampleB_clean = pd.concat([ordersB[~ordersB['visitorId'].isin(visitors_tofilter)]['orders_count'] \\\n",
    "                        , pd.Series(0, index=np.arange(0, count_visits['B'] - len(ordersB['visitorId']))\\\n",
    "                        , name='orders_count')], axis=0)"
   ]
  },
  {
   "cell_type": "code",
   "execution_count": 42,
   "metadata": {},
   "outputs": [
    {
     "name": "stdout",
     "output_type": "stream",
     "text": [
      "p-value после фильтрации: 0.003\n",
      "Относительный прирост конверсии: 0.194\n"
     ]
    }
   ],
   "source": [
    "print('p-value после фильтрации: {0:.3f}'.format(stats.mannwhitneyu(sampleA_clean, sampleB_clean)[1]))\n",
    "print('Относительный прирост конверсии: {0:.3f}'.format(sampleB_clean.mean() / sampleA_clean.mean() - 1))"
   ]
  },
  {
   "cell_type": "markdown",
   "metadata": {},
   "source": [
    "Видим, что статистически значимое различие между группами по конверсии осталось и после фильтрации аномалий (0.003 < 0.05). Конверсия в группе В выше, разница конверсий в чистых данных стала еще больше (с 16% до 19%).   \n",
    "Преимущество группы В видим и на графике изменения разницы конверсий."
   ]
  },
  {
   "cell_type": "code",
   "execution_count": 43,
   "metadata": {},
   "outputs": [
    {
     "name": "stdout",
     "output_type": "stream",
     "text": [
      "p-value после фильтрации: 0.435\n",
      "Относительный прирост чека: 0.003\n"
     ]
    }
   ],
   "source": [
    "print('p-value после фильтрации: {0:.3f}'.format(stats.mannwhitneyu(\\\n",
    "                orders[np.logical_and(orders['group']=='A', \\\n",
    "                                    ~orders['visitorId'].isin(visitors_tofilter))]['revenue'], \\\n",
    "                orders[np.logical_and(orders['group']=='B',\\\n",
    "                                    ~orders['visitorId'].isin(visitors_tofilter))]['revenue'])[1]))\n",
    "print('Относительный прирост чека: {0:.3f}'.format(\n",
    "    orders[np.logical_and(orders['group']=='B', ~orders['visitorId'].isin(visitors_tofilter))]['revenue'].mean()/ \\\n",
    "    orders[np.logical_and(orders['group']=='A', ~orders['visitorId'].isin(visitors_tofilter))]['revenue'].mean() - 1))"
   ]
  },
  {
   "cell_type": "markdown",
   "metadata": {},
   "source": [
    "По чистым данным все еще не можем отвергнуть нулевую гипотезу и считать, что в среднем чеке групп есть различия. После того, как убрали аномально высокие чеки, разница между группами значительно сократилась и приблизилась к 0 (с 29% до 0.3%)"
   ]
  },
  {
   "cell_type": "markdown",
   "metadata": {},
   "source": [
    "### Решение по результатам теста <a name=\"result\"></a>"
   ]
  },
  {
   "cell_type": "markdown",
   "metadata": {},
   "source": [
    "Итак мы выяснили что:\n",
    "1. Есть статистически значимая разница по конверсии между группами как по сырым, так и по отфильтрованным данным.\n",
    "2. По [графику](#conv_pic) видим, что конверсия по группе В выше группы А, хотя разница и имеет небольшие колебания.\n",
    "3. По среднему чеку между группами не нашли статистически значимого различия ни в сырых данных, ни после фильтрации. \n",
    "4. На [графике](#receipt_pic) разница по среднему чеку сильно колеблется и выводов сделать нельзя.\n",
    "5. По чистым данным относительный прирост среднего чека в группе В к группе А практически 0. В чистых данных разница была большой из-за наличия в группе В аномально больших чеков."
   ]
  },
  {
   "cell_type": "markdown",
   "metadata": {},
   "source": [
    "**Вывод:** можем остановить тест и сделать вывод, что в группе В конверсия выше, чем в группе А. Выводов о различии среднего чека сделать не можем, скорее всего разницы нет."
   ]
  },
  {
   "cell_type": "code",
   "execution_count": null,
   "metadata": {},
   "outputs": [],
   "source": []
  }
 ],
 "metadata": {
  "ExecuteTimeLog": [
   {
    "duration": 1916,
    "start_time": "2021-09-20T13:37:24.960Z"
   },
   {
    "duration": 33,
    "start_time": "2021-09-20T13:37:27.028Z"
   },
   {
    "duration": 5,
    "start_time": "2021-09-20T13:37:37.656Z"
   },
   {
    "duration": 25,
    "start_time": "2021-09-20T13:37:43.546Z"
   },
   {
    "duration": 6,
    "start_time": "2021-09-20T13:37:53.311Z"
   },
   {
    "duration": 24,
    "start_time": "2021-09-20T13:37:54.014Z"
   },
   {
    "duration": 22,
    "start_time": "2021-09-20T13:37:55.133Z"
   },
   {
    "duration": 64,
    "start_time": "2021-09-20T13:37:57.568Z"
   },
   {
    "duration": 15,
    "start_time": "2021-09-20T13:37:58.030Z"
   },
   {
    "duration": 32,
    "start_time": "2021-09-20T13:38:01.164Z"
   },
   {
    "duration": 17,
    "start_time": "2021-09-20T13:38:02.092Z"
   },
   {
    "duration": 9,
    "start_time": "2021-09-20T13:38:02.744Z"
   }
  ],
  "kernelspec": {
   "display_name": "Python 3",
   "language": "python",
   "name": "python3"
  },
  "language_info": {
   "codemirror_mode": {
    "name": "ipython",
    "version": 3
   },
   "file_extension": ".py",
   "mimetype": "text/x-python",
   "name": "python",
   "nbconvert_exporter": "python",
   "pygments_lexer": "ipython3",
   "version": "3.8.8"
  },
  "toc": {
   "base_numbering": 1,
   "nav_menu": {},
   "number_sections": true,
   "sideBar": true,
   "skip_h1_title": true,
   "title_cell": "Table of Contents",
   "title_sidebar": "Contents",
   "toc_cell": false,
   "toc_position": {},
   "toc_section_display": true,
   "toc_window_display": false
  }
 },
 "nbformat": 4,
 "nbformat_minor": 2
}
